{
 "cells": [
  {
   "cell_type": "code",
   "execution_count": 1,
   "metadata": {},
   "outputs": [],
   "source": [
    "import pandas as pd\n",
    "import numpy as np"
   ]
  },
  {
   "cell_type": "code",
   "execution_count": 2,
   "metadata": {},
   "outputs": [
    {
     "name": "stderr",
     "output_type": "stream",
     "text": [
      "<>:1: SyntaxWarning: invalid escape sequence '\\C'\n",
      "<>:3: SyntaxWarning: invalid escape sequence '\\D'\n",
      "<>:5: SyntaxWarning: invalid escape sequence '\\E'\n",
      "<>:7: SyntaxWarning: invalid escape sequence '\\P'\n",
      "<>:9: SyntaxWarning: invalid escape sequence '\\S'\n",
      "<>:11: SyntaxWarning: invalid escape sequence '\\S'\n",
      "<>:1: SyntaxWarning: invalid escape sequence '\\C'\n",
      "<>:3: SyntaxWarning: invalid escape sequence '\\D'\n",
      "<>:5: SyntaxWarning: invalid escape sequence '\\E'\n",
      "<>:7: SyntaxWarning: invalid escape sequence '\\P'\n",
      "<>:9: SyntaxWarning: invalid escape sequence '\\S'\n",
      "<>:11: SyntaxWarning: invalid escape sequence '\\S'\n",
      "C:\\Users\\infog\\AppData\\Local\\Temp\\ipykernel_2832\\222945463.py:1: SyntaxWarning: invalid escape sequence '\\C'\n",
      "  with open('DataSet\\Customers.csv', 'r', encoding='latin-1') as f:\n",
      "C:\\Users\\infog\\AppData\\Local\\Temp\\ipykernel_2832\\222945463.py:3: SyntaxWarning: invalid escape sequence '\\D'\n",
      "  with open('DataSet\\Data_Dictionary.csv', 'r', encoding='latin-1') as f:\n",
      "C:\\Users\\infog\\AppData\\Local\\Temp\\ipykernel_2832\\222945463.py:5: SyntaxWarning: invalid escape sequence '\\E'\n",
      "  with open('DataSet\\Exchange_Rates.csv', 'r', encoding='latin-1') as f:\n",
      "C:\\Users\\infog\\AppData\\Local\\Temp\\ipykernel_2832\\222945463.py:7: SyntaxWarning: invalid escape sequence '\\P'\n",
      "  with open('DataSet\\Products.csv', 'r', encoding='latin-1') as f:\n",
      "C:\\Users\\infog\\AppData\\Local\\Temp\\ipykernel_2832\\222945463.py:9: SyntaxWarning: invalid escape sequence '\\S'\n",
      "  with open('DataSet\\Sales.csv', 'r', encoding='latin-1') as f:\n",
      "C:\\Users\\infog\\AppData\\Local\\Temp\\ipykernel_2832\\222945463.py:11: SyntaxWarning: invalid escape sequence '\\S'\n",
      "  with open('DataSet\\Stores.csv', 'r', encoding='latin-1') as f:\n"
     ]
    }
   ],
   "source": [
    "with open('DataSet\\Customers.csv', 'r', encoding='latin-1') as f:\n",
    "    Customers = pd.read_csv(f)\n",
    "with open('DataSet\\Data_Dictionary.csv', 'r', encoding='latin-1') as f:\n",
    "    Data_Dictionary = pd.read_csv(f)\n",
    "with open('DataSet\\Exchange_Rates.csv', 'r', encoding='latin-1') as f:\n",
    "    Exchange_Rates = pd.read_csv(f)\n",
    "with open('DataSet\\Products.csv', 'r', encoding='latin-1') as f:\n",
    "    Products = pd.read_csv(f)\n",
    "with open('DataSet\\Sales.csv', 'r', encoding='latin-1') as f:\n",
    "    Sales = pd.read_csv(f)\n",
    "with open('DataSet\\Stores.csv', 'r', encoding='latin-1') as f:\n",
    "    Stores = pd.read_csv(f)"
   ]
  },
  {
   "cell_type": "code",
   "execution_count": 3,
   "metadata": {},
   "outputs": [
    {
     "name": "stdout",
     "output_type": "stream",
     "text": [
      "CustomerKey     0\n",
      "Gender          0\n",
      "Name            0\n",
      "City            0\n",
      "State Code     10\n",
      "State           0\n",
      "Zip Code        0\n",
      "Country         0\n",
      "Continent       0\n",
      "Birthday        0\n",
      "dtype: int64 Table          0\n",
      "Field          0\n",
      "Description    0\n",
      "dtype: int64 Date        0\n",
      "Currency    0\n",
      "Exchange    0\n",
      "dtype: int64 ProductKey        0\n",
      "Product Name      0\n",
      "Brand             0\n",
      "Color             0\n",
      "Unit Cost USD     0\n",
      "Unit Price USD    0\n",
      "SubcategoryKey    0\n",
      "Subcategory       0\n",
      "CategoryKey       0\n",
      "Category          0\n",
      "dtype: int64 Order Number         0\n",
      "Line Item            0\n",
      "Order Date           0\n",
      "Delivery Date    49719\n",
      "CustomerKey          0\n",
      "StoreKey             0\n",
      "ProductKey           0\n",
      "Quantity             0\n",
      "Currency Code        0\n",
      "dtype: int64 StoreKey         0\n",
      "Country          0\n",
      "State            0\n",
      "Square Meters    1\n",
      "Open Date        0\n",
      "dtype: int64\n"
     ]
    }
   ],
   "source": [
    "print(Customers.isnull().sum(),\n",
    "Data_Dictionary.isnull().sum(),\n",
    "Exchange_Rates.isnull().sum(),\n",
    "Products.isnull().sum(),\n",
    "Sales.isnull().sum(),\n",
    "Stores.isnull().sum())\n"
   ]
  },
  {
   "cell_type": "code",
   "execution_count": 5,
   "metadata": {},
   "outputs": [
    {
     "data": {
      "text/plain": [
       "CustomerKey     0\n",
       "Gender          0\n",
       "Name            0\n",
       "City            0\n",
       "State Code     10\n",
       "State           0\n",
       "Zip Code        0\n",
       "Country         0\n",
       "Continent       0\n",
       "Birthday        0\n",
       "dtype: int64"
      ]
     },
     "execution_count": 5,
     "metadata": {},
     "output_type": "execute_result"
    }
   ],
   "source": [
    "Customers.isnull().sum()"
   ]
  },
  {
   "cell_type": "code",
   "execution_count": null,
   "metadata": {},
   "outputs": [],
   "source": [
    "pd.Where(Customers['State'] = \"Napoli\" )"
   ]
  },
  {
   "cell_type": "code",
   "execution_count": 6,
   "metadata": {},
   "outputs": [],
   "source": [
    "state = Customers[\"State\"]\n",
    "state_code\t = Customers[\"State Code\"]\n",
    "unique_state_and_code= {}\n",
    "for i in range(len(state)):\n",
    "    if state[i] not in unique_state_and_code:\n",
    "        unique_state_and_code[state[i]] = state_code[i]\n",
    "New_state_code = []\n",
    "for i in range(len(state)):\n",
    "    for j in unique_state_and_code:\n",
    "        if j == state[i]:\n",
    "            New_state_code.append(unique_state_and_code[j])\n",
    "\n",
    "Customers[\"State Code\"] = New_state_code\n",
    "\n"
   ]
  },
  {
   "cell_type": "code",
   "execution_count": 7,
   "metadata": {},
   "outputs": [],
   "source": [
    "Customers[\"State Code\"] = New_state_code"
   ]
  },
  {
   "cell_type": "code",
   "execution_count": 15,
   "metadata": {},
   "outputs": [
    {
     "data": {
      "text/plain": [
       "CustomerKey     0\n",
       "Gender          0\n",
       "Name            0\n",
       "City            0\n",
       "State Code     10\n",
       "State           0\n",
       "Zip Code        0\n",
       "Country         0\n",
       "Continent       0\n",
       "Birthday        0\n",
       "dtype: int64"
      ]
     },
     "execution_count": 15,
     "metadata": {},
     "output_type": "execute_result"
    }
   ],
   "source": [
    "Customers.isnull().sum()\n"
   ]
  }
 ],
 "metadata": {
  "kernelspec": {
   "display_name": "Python 3",
   "language": "python",
   "name": "python3"
  },
  "language_info": {
   "codemirror_mode": {
    "name": "ipython",
    "version": 3
   },
   "file_extension": ".py",
   "mimetype": "text/x-python",
   "name": "python",
   "nbconvert_exporter": "python",
   "pygments_lexer": "ipython3",
   "version": "3.12.4"
  }
 },
 "nbformat": 4,
 "nbformat_minor": 2
}
